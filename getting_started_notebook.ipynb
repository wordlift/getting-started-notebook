{
 "cells": [
  {
   "metadata": {},
   "cell_type": "markdown",
   "source": [
    "# Getting Started\n",
    "\n",
    "Jumpstart a Graph in a few steps with WordLift by providing an XML sitemap and a WordLift Key ([get it here](https://wordlift.io)).\n",
    "\n",
    "This is the first notebook of a series, once you created your graph, move forward to [create internal links](create_internal_links.ipynb).\n",
    "\n",
    "## Video Walkthrough\n",
    "\n",
    "[![Jumpstart your Graph in less than 5 minutes](https://img.youtube.com/vi/yQV9DkH9LmI/0.jpg)](https://www.youtube.com/watch?v=yQV9DkH9LmI)\n",
    "\n",
    "## Configuration\n",
    "\n",
    "Configuration combines 4 sources in order:\n",
    "\n",
    "1. Global keys found in `globals()` allowing to use this notebook with JupyterLab Scheduler which presets the configurations as globals.\n",
    "2. Keys from a local configuration file, by default `config/default.py`\n",
    "3. Environment variables.\n",
    "4. Google Colab usermap (i.e. secrets).\n",
    "\n",
    "There are three configuration settings:\n",
    "\n",
    "* `WORDLIFT_KEY`, holding the WordLift Key, when using Google Colab, it can be set in the secrets\n",
    "* `SITEMAP_URL`, the URL to the sitemap which contains URLs (not other sitemaps, or at least we didn't test it with links to other sitemaps)\n",
    "* `OUTPUT_TYPE`, optional, this is the type used to represent imported web pages. If not set will default to `http://schema.org/WebPage` (other options could be `http://schema.org/CollectionPage`, etc.)"
   ],
   "id": "828180bd2258b53a"
  },
  {
   "metadata": {
    "ExecuteTime": {
     "end_time": "2025-04-14T15:52:16.980539Z",
     "start_time": "2025-04-14T15:51:44.845858Z"
    }
   },
   "cell_type": "code",
   "source": [
    "import logging\n",
    "from pathlib import Path\n",
    "from wordlift_sdk.config import get_config_value\n",
    "\n",
    "logging.basicConfig(level=logging.WARNING, force=True)\n",
    "logger = logging.getLogger(__name__)\n",
    "logger.setLevel(logging.INFO)\n",
    "\n",
    "config_path = Path.cwd() / \"config\" / \"default.py\"\n",
    "WORDLIFT_KEY = get_config_value('WORDLIFT_KEY', config_path)\n",
    "SITEMAP_URL = get_config_value('SITEMAP_URL', config_path)\n",
    "OUTPUT_TYPES = {get_config_value('OUTPUT_TYPE', config_path, 'http://schema.org/Article')}\n",
    "SHEETS_URL = get_config_value('SHEETS_URL', config_path)\n",
    "SHEETS_NAME = get_config_value('SHEETS_NAME', config_path)\n",
    "\n",
    "if WORDLIFT_KEY is None or OUTPUT_TYPES is None or SITEMAP_URL is None:\n",
    "    raise ValueError('Configuration not set')"
   ],
   "id": "9a4da2f68f548690",
   "outputs": [
    {
     "ename": "KeyboardInterrupt",
     "evalue": "",
     "output_type": "error",
     "traceback": [
      "\u001B[31m---------------------------------------------------------------------------\u001B[39m",
      "\u001B[31mKeyboardInterrupt\u001B[39m                         Traceback (most recent call last)",
      "\u001B[36mCell\u001B[39m\u001B[36m \u001B[39m\u001B[32mIn[3]\u001B[39m\u001B[32m, line 14\u001B[39m\n\u001B[32m     11\u001B[39m SITEMAP_URL = get_config_value(\u001B[33m'\u001B[39m\u001B[33mSITEMAP_URL\u001B[39m\u001B[33m'\u001B[39m, config_path)\n\u001B[32m     12\u001B[39m OUTPUT_TYPES = {get_config_value(\u001B[33m'\u001B[39m\u001B[33mOUTPUT_TYPE\u001B[39m\u001B[33m'\u001B[39m, config_path, \u001B[33m'\u001B[39m\u001B[33mhttp://schema.org/Article\u001B[39m\u001B[33m'\u001B[39m)}\n\u001B[32m---> \u001B[39m\u001B[32m14\u001B[39m \u001B[38;5;28;01mif\u001B[39;00m \u001B[43mWORDLIFT_KEY\u001B[49m \u001B[38;5;129;01mis\u001B[39;00m \u001B[38;5;28;01mNone\u001B[39;00m \u001B[38;5;129;01mor\u001B[39;00m OUTPUT_TYPES \u001B[38;5;129;01mis\u001B[39;00m \u001B[38;5;28;01mNone\u001B[39;00m \u001B[38;5;129;01mor\u001B[39;00m SITEMAP_URL \u001B[38;5;129;01mis\u001B[39;00m \u001B[38;5;28;01mNone\u001B[39;00m:\n\u001B[32m     15\u001B[39m     \u001B[38;5;28;01mraise\u001B[39;00m \u001B[38;5;167;01mValueError\u001B[39;00m(\u001B[33m'\u001B[39m\u001B[33mConfiguration not set\u001B[39m\u001B[33m'\u001B[39m)\n",
      "\u001B[36mFile \u001B[39m\u001B[32m_pydevd_bundle/pydevd_cython_darwin_312_64.pyx:1187\u001B[39m, in \u001B[36m_pydevd_bundle.pydevd_cython_darwin_312_64.SafeCallWrapper.__call__\u001B[39m\u001B[34m()\u001B[39m\n",
      "\u001B[36mFile \u001B[39m\u001B[32m_pydevd_bundle/pydevd_cython_darwin_312_64.pyx:627\u001B[39m, in \u001B[36m_pydevd_bundle.pydevd_cython_darwin_312_64.PyDBFrame.trace_dispatch\u001B[39m\u001B[34m()\u001B[39m\n",
      "\u001B[36mFile \u001B[39m\u001B[32m_pydevd_bundle/pydevd_cython_darwin_312_64.pyx:1103\u001B[39m, in \u001B[36m_pydevd_bundle.pydevd_cython_darwin_312_64.PyDBFrame.trace_dispatch\u001B[39m\u001B[34m()\u001B[39m\n",
      "\u001B[36mFile \u001B[39m\u001B[32m_pydevd_bundle/pydevd_cython_darwin_312_64.pyx:1061\u001B[39m, in \u001B[36m_pydevd_bundle.pydevd_cython_darwin_312_64.PyDBFrame.trace_dispatch\u001B[39m\u001B[34m()\u001B[39m\n",
      "\u001B[36mFile \u001B[39m\u001B[32m~/Applications/PyCharm Professional Edition.app/Contents/plugins/python/helpers-pro/jupyter_debug/pydev_jupyter_plugin.py:169\u001B[39m, in \u001B[36mstop\u001B[39m\u001B[34m(plugin, pydb, frame, event, args, stop_info, arg, step_cmd)\u001B[39m\n\u001B[32m    167\u001B[39m     frame = suspend_jupyter(main_debugger, thread, frame, step_cmd)\n\u001B[32m    168\u001B[39m     \u001B[38;5;28;01mif\u001B[39;00m frame:\n\u001B[32m--> \u001B[39m\u001B[32m169\u001B[39m         \u001B[43mmain_debugger\u001B[49m\u001B[43m.\u001B[49m\u001B[43mdo_wait_suspend\u001B[49m\u001B[43m(\u001B[49m\u001B[43mthread\u001B[49m\u001B[43m,\u001B[49m\u001B[43m \u001B[49m\u001B[43mframe\u001B[49m\u001B[43m,\u001B[49m\u001B[43m \u001B[49m\u001B[43mevent\u001B[49m\u001B[43m,\u001B[49m\u001B[43m \u001B[49m\u001B[43marg\u001B[49m\u001B[43m)\u001B[49m\n\u001B[32m    170\u001B[39m         \u001B[38;5;28;01mreturn\u001B[39;00m \u001B[38;5;28;01mTrue\u001B[39;00m\n\u001B[32m    171\u001B[39m \u001B[38;5;28;01mreturn\u001B[39;00m \u001B[38;5;28;01mFalse\u001B[39;00m\n",
      "\u001B[36mFile \u001B[39m\u001B[32m~/Applications/PyCharm Professional Edition.app/Contents/plugins/python-ce/helpers/pydev/pydevd.py:1220\u001B[39m, in \u001B[36mPyDB.do_wait_suspend\u001B[39m\u001B[34m(self, thread, frame, event, arg, send_suspend_message, is_unhandled_exception)\u001B[39m\n\u001B[32m   1217\u001B[39m         from_this_thread.append(frame_id)\n\u001B[32m   1219\u001B[39m \u001B[38;5;28;01mwith\u001B[39;00m \u001B[38;5;28mself\u001B[39m._threads_suspended_single_notification.notify_thread_suspended(thread_id, stop_reason):\n\u001B[32m-> \u001B[39m\u001B[32m1220\u001B[39m     \u001B[38;5;28;43mself\u001B[39;49m\u001B[43m.\u001B[49m\u001B[43m_do_wait_suspend\u001B[49m\u001B[43m(\u001B[49m\u001B[43mthread\u001B[49m\u001B[43m,\u001B[49m\u001B[43m \u001B[49m\u001B[43mframe\u001B[49m\u001B[43m,\u001B[49m\u001B[43m \u001B[49m\u001B[43mevent\u001B[49m\u001B[43m,\u001B[49m\u001B[43m \u001B[49m\u001B[43marg\u001B[49m\u001B[43m,\u001B[49m\u001B[43m \u001B[49m\u001B[43msuspend_type\u001B[49m\u001B[43m,\u001B[49m\u001B[43m \u001B[49m\u001B[43mfrom_this_thread\u001B[49m\u001B[43m)\u001B[49m\n",
      "\u001B[36mFile \u001B[39m\u001B[32m~/Applications/PyCharm Professional Edition.app/Contents/plugins/python-ce/helpers/pydev/pydevd.py:1235\u001B[39m, in \u001B[36mPyDB._do_wait_suspend\u001B[39m\u001B[34m(self, thread, frame, event, arg, suspend_type, from_this_thread)\u001B[39m\n\u001B[32m   1232\u001B[39m             \u001B[38;5;28mself\u001B[39m._call_mpl_hook()\n\u001B[32m   1234\u001B[39m         \u001B[38;5;28mself\u001B[39m.process_internal_commands()\n\u001B[32m-> \u001B[39m\u001B[32m1235\u001B[39m         \u001B[43mtime\u001B[49m\u001B[43m.\u001B[49m\u001B[43msleep\u001B[49m\u001B[43m(\u001B[49m\u001B[32;43m0.01\u001B[39;49m\u001B[43m)\u001B[49m\n\u001B[32m   1237\u001B[39m \u001B[38;5;28mself\u001B[39m.cancel_async_evaluation(get_current_thread_id(thread), \u001B[38;5;28mstr\u001B[39m(\u001B[38;5;28mid\u001B[39m(frame)))\n\u001B[32m   1239\u001B[39m \u001B[38;5;66;03m# process any stepping instructions\u001B[39;00m\n",
      "\u001B[31mKeyboardInterrupt\u001B[39m: "
     ]
    }
   ],
   "execution_count": 3
  },
  {
   "metadata": {},
   "cell_type": "markdown",
   "source": [
    "# Dependencies\n",
    "\n",
    "This part is only for Google Colab. When the notebook is used locally we recommend using `poetry install`."
   ],
   "id": "8a77807f92f26ee"
  },
  {
   "metadata": {},
   "cell_type": "code",
   "source": [
    "from wordlift_sdk.notebook import install_if_missing\n",
    "\n",
    "install_if_missing(\"wordlift-client>=1.75.0,<2.0.0)\", \"wordlift-client\")\n",
    "install_if_missing(\"beautifulsoup4>=4.13.3,<5.0.0)\", \"beautifulsoup4\")\n",
    "install_if_missing(\"rdflib>=7.1.3,<8.0.0)\", \"rdflib\")\n",
    "install_if_missing(\"tenacity>=9.0.0,<10.0.0)\", \"tenacity\")\n",
    "install_if_missing(\"pycountry>=24.6.1,<25.0.0)\", \"pycountry\")\n",
    "install_if_missing(\"wordlift-sdk @ git+https://github.com/wordlift/python-sdk.git@0.26.0\", \"wordlift_sdk\")"
   ],
   "id": "29ae0702e933346",
   "outputs": [],
   "execution_count": null
  },
  {
   "metadata": {},
   "cell_type": "markdown",
   "source": [
    "# Imports\n",
    "\n",
    "This section provides general imports and basic configuration, no need to do anything here."
   ],
   "id": "93cc0281794f644a"
  },
  {
   "metadata": {},
   "cell_type": "code",
   "source": [
    "from bs4 import BeautifulSoup\n",
    "from rdflib import URIRef, Literal\n",
    "from tenacity import retry, stop_after_attempt, wait_fixed\n",
    "from wordlift_client import SitemapImportsApi, SitemapImportRequest, EmbeddingRequest, EntityPatchRequest\n",
    "from wordlift_sdk.client import ClientConfigurationFactory\n",
    "from wordlift_sdk.utils import create_entity_patch_request, create_or_update_kg_using_sitemap\n",
    "from wordlift_client import Configuration\n",
    "from typing import Callable\n",
    "from collections.abc import Awaitable\n",
    "\n",
    "# Defining the host is optional and defaults to https://api.wordlift.io\n",
    "# See configuration.py for a list of all supported configuration parameters.\n",
    "api_url = 'https://api.wordlift.io'\n",
    "configuration = ClientConfigurationFactory(key=WORDLIFT_KEY).create()"
   ],
   "id": "ee26c7cc7d1b8a93",
   "outputs": [],
   "execution_count": null
  },
  {
   "metadata": {},
   "cell_type": "markdown",
   "source": [
    "# Callbacks\n",
    "\n",
    "There are two callbacks that you can customize according to your needs:\n",
    "\n",
    "1. `import_url`, imports a URL into the Graph, it is called for each URL found in the sitemap.\n",
    "2. `parse_html`, parses the webpage and provides a list of entity patches to add additional properties to the imported entities and is called for every url.\n",
    "\n",
    "## Import URL\n",
    "\n",
    "The defaults work nicely for most situations so that you don't really need to configure anything here."
   ],
   "id": "1f0c80d32488dbef"
  },
  {
   "metadata": {},
   "cell_type": "code",
   "source": [
    "async\n",
    "\n",
    "def import_url_factory(configuration: Configuration, types: set[str]) -> Callable[[set[str]], Awaitable[None]]:\n",
    "    @retry(\n",
    "        stop=stop_after_attempt(5),\n",
    "        wait=wait_fixed(2)\n",
    "    )\n",
    "    async def import_url(url_list: set[str]) -> None:\n",
    "        import wordlift_client\n",
    "\n",
    "        async with wordlift_client.ApiClient(configuration) as api_client:\n",
    "            imports_api = SitemapImportsApi(api_client)\n",
    "            request = SitemapImportRequest(\n",
    "                embedding=EmbeddingRequest(\n",
    "                    properties=[\"http://schema.org/headline\", \"http://schema.org/abstract\", \"http://schema.org/text\"]\n",
    "                ),\n",
    "                output_types=list(types),\n",
    "                urls=list(url_list),\n",
    "                overwrite=True,\n",
    "                id_generator=\"headline-with-url-hash\"\n",
    "            )\n",
    "\n",
    "            try:\n",
    "                await imports_api.create_sitemap_import(sitemap_import_request=request)\n",
    "            except Exception as e:\n",
    "                logger.error(\"Error importing URLs: %s\", e)\n",
    "\n",
    "    return import_url"
   ],
   "id": "269dab1bc0347060",
   "outputs": [],
   "execution_count": null
  },
  {
   "metadata": {},
   "cell_type": "markdown",
   "source": [
    "## Parse HTML\n",
    "\n",
    "This example shows how to add `schema:keywords` to an imported entity by taking the values from the `<a class=\"tag-cloud-link\">Tag</a>` markup. You can further tailor this part based on your needs."
   ],
   "id": "bfcffc58cb6e8b1c"
  },
  {
   "metadata": {},
   "cell_type": "code",
   "source": [
    "\n",
    "\n",
    "async def parse_html(entity_id: str, html: str) -> list[EntityPatchRequest]:\n",
    "    soup = BeautifulSoup(html, 'html.parser')\n",
    "\n",
    "    # Extract the text of all 'a' tags with class 'tag-cloud-link'\n",
    "    tag_texts = [a.get_text(strip=True) for a in soup.find_all('a', class_='tag-cloud-link')]\n",
    "\n",
    "    resource = URIRef(entity_id)\n",
    "\n",
    "    payloads = []\n",
    "\n",
    "    for value in tag_texts:\n",
    "        payloads.append(\n",
    "            create_entity_patch_request(\n",
    "                resource,\n",
    "                URIRef('http://schema.org/keywords'),\n",
    "                Literal(value)\n",
    "            )\n",
    "        )\n",
    "\n",
    "    return payloads\n"
   ],
   "id": "e15cd013a5dcfe39",
   "outputs": [],
   "execution_count": null
  },
  {
   "metadata": {},
   "cell_type": "markdown",
   "source": [
    "# Main Function\n",
    "\n",
    "This is the main notebook function code."
   ],
   "id": "fb355e41f170d978"
  },
  {
   "metadata": {},
   "cell_type": "code",
   "source": [
    "async def main() -> None:\n",
    "    await create_or_update_kg_using_sitemap(\n",
    "        configuration=configuration,\n",
    "        key=WORDLIFT_KEY,\n",
    "        sitemap_url=SITEMAP_URL,\n",
    "        types=OUTPUT_TYPES,\n",
    "        concurrency=1,\n",
    "        import_url_callback=await import_url_factory(configuration=configuration, types=OUTPUT_TYPES)\n",
    "    )\n",
    "\n",
    "\n",
    "await main()\n"
   ],
   "id": "fbc121e30a2defb3",
   "outputs": [],
   "execution_count": null
  }
 ],
 "metadata": {
  "kernelspec": {
   "display_name": "Python 3",
   "language": "python",
   "name": "python3"
  },
  "language_info": {
   "codemirror_mode": {
    "name": "ipython",
    "version": 2
   },
   "file_extension": ".py",
   "mimetype": "text/x-python",
   "name": "python",
   "nbconvert_exporter": "python",
   "pygments_lexer": "ipython2",
   "version": "2.7.6"
  }
 },
 "nbformat": 4,
 "nbformat_minor": 5
}
