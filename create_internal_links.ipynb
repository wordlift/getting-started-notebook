{
 "cells": [
  {
   "cell_type": "code",
   "id": "initial_id",
   "metadata": {
    "collapsed": true
   },
   "source": [
    "import logging\n",
    "\n",
    "logging.basicConfig(level=logging.WARNING, force=True)\n",
    "logger = logging.getLogger(__name__)\n",
    "logger.setLevel(logging.INFO)\n",
    "\n",
    "# Configuration from config/default.py file.\n",
    "try:\n",
    "    # Configuration is in the `config/default.py` file.\n",
    "    from config import default as config\n",
    "\n",
    "    WORDLIFT_KEY = config.WORDLIFT_KEY\n",
    "except ImportError:\n",
    "    logging.warning(\"Cannot import configuration from local `config/default.py` file.\")\n",
    "\n",
    "# Configuration from Google Colab Secrets.\n",
    "try:\n",
    "    from google.colab import userdata\n",
    "\n",
    "    WORDLIFT_KEY = userdata.get('WORDLIFT_KEY')\n",
    "except ImportError:\n",
    "    logging.warning(\"Cannot import configuration from google.colab.usermap.\")\n",
    "\n",
    "if WORDLIFT_KEY is None:\n",
    "    raise ValueError('Configuration not set')"
   ],
   "outputs": [],
   "execution_count": null
  },
  {
   "cell_type": "code",
   "id": "77d619a97e7cdba",
   "metadata": {},
   "source": [
    "import sys\n",
    "\n",
    "if \"google.colab\" in sys.modules:\n",
    "    !pip install \\\n",
    "    \"tqdm>=4.67.1,<5.0.0\" \\\n",
    "    \"wordlift-sdk @ git+https://github.com/wordlift/python-sdk.git\""
   ],
   "outputs": [],
   "execution_count": null
  },
  {
   "cell_type": "code",
   "id": "c68f36502e2d0448",
   "metadata": {},
   "source": [
    "from tqdm.asyncio import tqdm\n",
    "from wordlift_sdk.client import ClientConfigurationFactory\n",
    "from wordlift_sdk.utils import delayed, create_dataframe_of_entities_with_embedding_vectors\n",
    "from wordlift_sdk.internal_link import create_internal_link_handler\n",
    "\n",
    "# Defining the host is optional and defaults to https://api.wordlift.io\n",
    "# See configuration.py for a list of all supported configuration parameters.\n",
    "api_url = 'https://api.wordlift.io'\n",
    "configuration = ClientConfigurationFactory(key=WORDLIFT_KEY).create()"
   ],
   "outputs": [],
   "execution_count": null
  },
  {
   "cell_type": "code",
   "id": "6310f73849a7abf3",
   "metadata": {},
   "source": [
    "async def main() -> None:\n",
    "    entities_with_embedding_vectors_df = await create_dataframe_of_entities_with_embedding_vectors(WORDLIFT_KEY)\n",
    "\n",
    "    # Enrich the Graph, notice that here we pass our callback `parse_html` which will return Patch requests, no need to deal with the actual API. We're polite and not making more than 2 concurrent reqs.\n",
    "    handler = create_internal_link_handler(configuration, 'getting_started')\n",
    "    await tqdm.gather(\n",
    "        *[delayed(handler, 2)(row) for index, row in entities_with_embedding_vectors_df.iterrows()],\n",
    "        total=len(entities_with_embedding_vectors_df)\n",
    "    )\n",
    "\n",
    "    # Print the ID of the entities processed\n",
    "    for index, row in entities_with_embedding_vectors_df.iterrows():\n",
    "        logger.info(row['url'] + \" \" + row['iri'])\n",
    "\n",
    "\n",
    "await main()\n"
   ],
   "outputs": [],
   "execution_count": null
  }
 ],
 "metadata": {
  "kernelspec": {
   "display_name": "Python 3",
   "language": "python",
   "name": "python3"
  },
  "language_info": {
   "codemirror_mode": {
    "name": "ipython",
    "version": 2
   },
   "file_extension": ".py",
   "mimetype": "text/x-python",
   "name": "python",
   "nbconvert_exporter": "python",
   "pygments_lexer": "ipython2",
   "version": "2.7.6"
  }
 },
 "nbformat": 4,
 "nbformat_minor": 5
}
